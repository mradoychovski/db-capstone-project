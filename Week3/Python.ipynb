{
 "cells": [
  {
   "cell_type": "code",
   "execution_count": 1,
   "id": "3db10411",
   "metadata": {},
   "outputs": [
    {
     "name": "stdout",
     "output_type": "stream",
     "text": [
      "Requirement already satisfied: mysql-connector-python in c:\\users\\sudomist\\appdata\\local\\anaconda3\\lib\\site-packages (8.0.33)\n",
      "Collecting protobuf<=3.20.3,>=3.11.0 (from mysql-connector-python)\n",
      "  Downloading protobuf-3.20.3-py2.py3-none-any.whl (162 kB)\n",
      "                                              0.0/162.1 kB ? eta -:--:--\n",
      "     --------------                          61.4/162.1 kB 1.7 MB/s eta 0:00:01\n",
      "     ------------------------------------   153.6/162.1 kB 1.8 MB/s eta 0:00:01\n",
      "     -------------------------------------- 162.1/162.1 kB 1.4 MB/s eta 0:00:00\n",
      "Installing collected packages: protobuf\n",
      "Successfully installed protobuf-3.20.3\n"
     ]
    }
   ],
   "source": [
    "!pip install mysql-connector-python"
   ]
  },
  {
   "cell_type": "code",
   "execution_count": 29,
   "id": "557290c0",
   "metadata": {},
   "outputs": [
    {
     "name": "stdout",
     "output_type": "stream",
     "text": [
      "MySQL connector is successfuly imported\n"
     ]
    }
   ],
   "source": [
    "import mysql.connector as connector\n",
    "print(\"MySQL connector is successfuly imported\")"
   ]
  },
  {
   "cell_type": "code",
   "execution_count": 30,
   "id": "3ba8297a",
   "metadata": {},
   "outputs": [
    {
     "name": "stdout",
     "output_type": "stream",
     "text": [
      "Connection is established\n",
      "Cursor is created\n"
     ]
    }
   ],
   "source": [
    "connection = connector.connect(user = \"root\", password = \"toor\", db = \"littlelemondb\")   # Put your username and password here\n",
    "print(\"Connection is established\")\n",
    "cursor = connection.cursor()\n",
    "print(\"Cursor is created\")"
   ]
  },
  {
   "cell_type": "code",
   "execution_count": 31,
   "id": "0e16a33b",
   "metadata": {},
   "outputs": [
    {
     "name": "stdout",
     "output_type": "stream",
     "text": [
      "SQL query is executed\n"
     ]
    }
   ],
   "source": [
    "show_tables_query = \"SHOW tables\" \n",
    "cursor.execute(show_tables_query)\n",
    "print(\"SQL query is executed\")"
   ]
  },
  {
   "cell_type": "code",
   "execution_count": 32,
   "id": "cea35584",
   "metadata": {},
   "outputs": [
    {
     "name": "stdout",
     "output_type": "stream",
     "text": [
      "[('bookings',), ('customers',), ('deliverystatus',), ('menuitems',), ('menus',), ('orders',), ('staff',)]\n"
     ]
    }
   ],
   "source": [
    "results = cursor.fetchall()\n",
    "print(results)\n",
    "#for res in results:\n",
    "#    print(res)"
   ]
  },
  {
   "cell_type": "code",
   "execution_count": 33,
   "id": "301e0660",
   "metadata": {},
   "outputs": [
    {
     "name": "stdout",
     "output_type": "stream",
     "text": [
      "('FullName', 'ContactNumber', 'TotalCost')\n",
      "('Anna Iversen', 467467, Decimal('150.00'))\n",
      "('Vanessa McCarthy', 457463, Decimal('345.50'))\n",
      "('Joakim Iversen', 985781, Decimal('246.80'))\n"
     ]
    }
   ],
   "source": [
    "query = \"\"\"\n",
    "select concat(Customers.FirstName, \" \", Customers.LastName) as FullName,\n",
    "Customers.ContactNumber, TotalCost\n",
    "from Customers inner join Bookings\n",
    "on Customers.CustomerID=Bookings.CustomerID\n",
    "inner join Orders on Bookings.BookingID=Orders.BookingID\n",
    "where Orders.TotalCost > 60\n",
    "\"\"\"\n",
    "cursor.execute(query)\n",
    "cols = cursor.column_names\n",
    "results = cursor.fetchall()\n",
    "print(cols)\n",
    "\n",
    "for res in results:\n",
    "    print(res)"
   ]
  },
  {
   "cell_type": "code",
   "execution_count": null,
   "id": "4a9e5a7d",
   "metadata": {},
   "outputs": [],
   "source": []
  },
  {
   "cell_type": "code",
   "execution_count": null,
   "id": "c615ee1d",
   "metadata": {},
   "outputs": [],
   "source": []
  },
  {
   "cell_type": "code",
   "execution_count": null,
   "id": "c6633850",
   "metadata": {},
   "outputs": [],
   "source": []
  }
 ],
 "metadata": {
  "kernelspec": {
   "display_name": "Python 3 (ipykernel)",
   "language": "python",
   "name": "python3"
  },
  "language_info": {
   "codemirror_mode": {
    "name": "ipython",
    "version": 3
   },
   "file_extension": ".py",
   "mimetype": "text/x-python",
   "name": "python",
   "nbconvert_exporter": "python",
   "pygments_lexer": "ipython3",
   "version": "3.11.3"
  }
 },
 "nbformat": 4,
 "nbformat_minor": 5
}
